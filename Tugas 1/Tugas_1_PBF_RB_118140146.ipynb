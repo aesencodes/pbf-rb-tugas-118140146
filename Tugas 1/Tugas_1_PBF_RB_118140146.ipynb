{
  "nbformat": 4,
  "nbformat_minor": 0,
  "metadata": {
    "colab": {
      "provenance": [],
      "authorship_tag": "ABX9TyMmeiOsqsfn9MbPIk6Kjpuj",
      "include_colab_link": true
    },
    "kernelspec": {
      "name": "python3",
      "display_name": "Python 3"
    },
    "language_info": {
      "name": "python"
    }
  },
  "cells": [
    {
      "cell_type": "markdown",
      "metadata": {
        "id": "view-in-github",
        "colab_type": "text"
      },
      "source": [
        "<a href=\"https://colab.research.google.com/github/aesencodes/pbf-rb-tugas-118140146/blob/main/Tugas_1_PBF_RB_118140146.ipynb\" target=\"_parent\"><img src=\"https://colab.research.google.com/assets/colab-badge.svg\" alt=\"Open In Colab\"/></a>"
      ]
    },
    {
      "cell_type": "code",
      "execution_count": null,
      "metadata": {
        "id": "2Tk9M0sncQ0o"
      },
      "outputs": [],
      "source": [
        "from functools import reduce"
      ]
    },
    {
      "cell_type": "code",
      "source": [
        "def encrypt_password(password):"
      ],
      "metadata": {
        "id": "82izVgQuc-zD"
      },
      "execution_count": null,
      "outputs": []
    },
    {
      "cell_type": "markdown",
      "source": [
        "Menukar masing-masing karakter menjadi ASCII value"
      ],
      "metadata": {
        "id": "Pl3gweMrdA0K"
      }
    },
    {
      "cell_type": "code",
      "source": [
        "ascii_values = [ord(char) for char in password]"
      ],
      "metadata": {
        "id": "2k-deqxNdDkK"
      },
      "execution_count": null,
      "outputs": []
    },
    {
      "cell_type": "markdown",
      "source": [
        "Menentukan value pertama, kedua dan ketiga"
      ],
      "metadata": {
        "id": "rNcZAk_hdF-y"
      }
    },
    {
      "cell_type": "code",
      "source": [
        "encrypt_values = [(chr((value//26)+80), chr(value%26+80), '+' if value//26 > value%26 else '-') for value in ascii_values]"
      ],
      "metadata": {
        "id": "o7Q6TkiLdHxh"
      },
      "execution_count": null,
      "outputs": []
    },
    {
      "cell_type": "markdown",
      "source": [
        "Menggabungkan value pertama, kedua dan ketiga"
      ],
      "metadata": {
        "id": "9drm-Sd9dJ4p"
      }
    },
    {
      "cell_type": "code",
      "source": [
        "encrypted_password = reduce(lambda acc, val: acc + val[0] + val[1] + val[2], encrypt_values, '')"
      ],
      "metadata": {
        "id": "G1bWRyiSdMDx"
      },
      "execution_count": null,
      "outputs": []
    },
    {
      "cell_type": "code",
      "source": [
        "return encrypted_password"
      ],
      "metadata": {
        "id": "YeugDAyCdQKA"
      },
      "execution_count": null,
      "outputs": []
    },
    {
      "cell_type": "code",
      "source": [
        "password = input(\"Masukkan password: \")"
      ],
      "metadata": {
        "id": "ayNy8p-cdSB4"
      },
      "execution_count": null,
      "outputs": []
    },
    {
      "cell_type": "markdown",
      "source": [
        "Mengenkripsi password yang diinput"
      ],
      "metadata": {
        "id": "Hmno5YFIdXTv"
      }
    },
    {
      "cell_type": "code",
      "source": [
        "encrypted_password = encrypt_password(password)"
      ],
      "metadata": {
        "id": "woes3H_hdUE4"
      },
      "execution_count": null,
      "outputs": []
    },
    {
      "cell_type": "markdown",
      "source": [
        "Menampilkan password yang diinput"
      ],
      "metadata": {
        "id": "HS1-43uWdZsv"
      }
    },
    {
      "cell_type": "code",
      "source": [
        "print(\"Password asli:\", password)"
      ],
      "metadata": {
        "id": "nHWQ82F_dbYO"
      },
      "execution_count": null,
      "outputs": []
    },
    {
      "cell_type": "markdown",
      "source": [
        "Menampilkan password yang telah dienkripsi"
      ],
      "metadata": {
        "id": "G6aDK99nddHO"
      }
    },
    {
      "cell_type": "code",
      "source": [
        "print(\"Password terenkripsi:\", encrypted_password)"
      ],
      "metadata": {
        "id": "rQFlB8fPdep3"
      },
      "execution_count": null,
      "outputs": []
    }
  ]
}